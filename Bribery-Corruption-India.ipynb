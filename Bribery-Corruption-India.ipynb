{
 "cells": [
  {
   "cell_type": "code",
   "execution_count": null,
   "id": "c371b503",
   "metadata": {},
   "outputs": [],
   "source": [
    "import pandas as pd\n",
    "import seaborn as sns\n",
    "import matplotlib\n",
    "import matplotlib.pyplot as plt\n",
    "%matplotlib inline\n",
    "\n",
    "sns.set_style('darkgrid')\n",
    "matplotlib.rcParams['font.size'] = 14\n",
    "matplotlib.rcParams['figure.figsize'] = (9, 5)\n",
    "matplotlib.rcParams['figure.facecolor'] = '#00000000'\n",
    "\n",
    "import warnings\n",
    "warnings.filterwarnings('ignore')"
   ]
  },
  {
   "cell_type": "code",
   "execution_count": null,
   "id": "858b1f25",
   "metadata": {},
   "outputs": [],
   "source": [
    "df=pd.read_csv('data.csv',parse_dates=[\"Date\"])"
   ]
  },
  {
   "cell_type": "code",
   "execution_count": null,
   "id": "8034076b",
   "metadata": {},
   "outputs": [],
   "source": [
    "df.head()"
   ]
  },
  {
   "cell_type": "code",
   "execution_count": null,
   "id": "44726c54",
   "metadata": {},
   "outputs": [],
   "source": [
    "df.info()"
   ]
  },
  {
   "cell_type": "code",
   "execution_count": null,
   "id": "d0253650",
   "metadata": {},
   "outputs": [],
   "source": [
    "r,c=df.shape\n",
    "print('The dataset has ',r,' rows and ',c,' columns.' )"
   ]
  },
  {
   "cell_type": "code",
   "execution_count": null,
   "id": "1e7dec06",
   "metadata": {},
   "outputs": [],
   "source": [
    "df.describe()"
   ]
  },
  {
   "cell_type": "code",
   "execution_count": null,
   "id": "2cfba89b",
   "metadata": {},
   "outputs": [],
   "source": [
    "df.describe(include=object)"
   ]
  },
  {
   "cell_type": "code",
   "execution_count": null,
   "id": "78afab7f",
   "metadata": {},
   "outputs": [],
   "source": [
    "df.isnull().sum()"
   ]
  },
  {
   "cell_type": "code",
   "execution_count": null,
   "id": "05ca0e88",
   "metadata": {},
   "outputs": [],
   "source": [
    "df[df['Department'].isnull()].head()"
   ]
  },
  {
   "cell_type": "code",
   "execution_count": null,
   "id": "d814f227",
   "metadata": {},
   "outputs": [],
   "source": [
    "df['Department'].fillna('Others',inplace=True)\n",
    "sns.histplot(df['Amount(INR)'],kde=True,bins=1000);\n",
    "#data is highly skewed."
   ]
  },
  {
   "cell_type": "code",
   "execution_count": null,
   "id": "de5228f7",
   "metadata": {},
   "outputs": [],
   "source": [
    "df['Amount(INR)'].quantile(0.90)"
   ]
  },
  {
   "cell_type": "code",
   "execution_count": null,
   "id": "d34a9c01",
   "metadata": {},
   "outputs": [],
   "source": [
    "# Switching to only relevant data\n",
    "df=df[df['Amount(INR)']<df['Amount(INR)'].quantile(0.90)]"
   ]
  },
  {
   "cell_type": "code",
   "execution_count": null,
   "id": "61cdeaf8",
   "metadata": {},
   "outputs": [],
   "source": [
    "sns.histplot(df['Amount(INR)'],kde=True);"
   ]
  },
  {
   "cell_type": "code",
   "execution_count": null,
   "id": "a27ababb",
   "metadata": {},
   "outputs": [],
   "source": [
    "df.isnull().sum()"
   ]
  },
  {
   "cell_type": "code",
   "execution_count": null,
   "id": "a6a70ac8",
   "metadata": {},
   "outputs": [],
   "source": [
    "df.sample(5)"
   ]
  },
  {
   "cell_type": "code",
   "execution_count": null,
   "id": "13fcb64e",
   "metadata": {},
   "outputs": [],
   "source": [
    "### Exploring\n",
    "df.Department.unique()"
   ]
  },
  {
   "cell_type": "code",
   "execution_count": null,
   "id": "085f977f",
   "metadata": {},
   "outputs": [],
   "source": [
    "df[['City','Province']]=df['Location'].str.split(',',expand=True)"
   ]
  },
  {
   "cell_type": "code",
   "execution_count": null,
   "id": "a40d246c",
   "metadata": {},
   "outputs": [],
   "source": [
    "df.head()"
   ]
  },
  {
   "cell_type": "code",
   "execution_count": null,
   "id": "eb7dd4cc",
   "metadata": {},
   "outputs": [],
   "source": [
    "most_bribe_area=df.groupby(['City'])['Amount(INR)'].agg(['count','sum']).sort_values(by='count',ascending=False).head(10)\n",
    "most_bribe_area"
   ]
  },
  {
   "cell_type": "code",
   "execution_count": null,
   "id": "ea5c7025",
   "metadata": {},
   "outputs": [],
   "source": [
    "sns.barplot(y=most_bribe_area.index,x=most_bribe_area['count'])\n",
    "plt.xlabel('Count')\n",
    "plt.ylabel(\"Cities\")\n",
    "plt.title('Most Bribes taken by City?');\n",
    "# Bangalore,Karnataka has the highest number of reported cases against bribery"
   ]
  },
  {
   "cell_type": "code",
   "execution_count": null,
   "id": "a6d1fc77",
   "metadata": {},
   "outputs": [],
   "source": [
    "most_bribe_province=df.groupby(['Province'])['Amount(INR)'].agg(['count','sum']).sort_values(by='count',ascending=False).head(10)\n",
    "sns.barplot(y=most_bribe_province.index,x=most_bribe_province['count']);"
   ]
  },
  {
   "cell_type": "code",
   "execution_count": null,
   "id": "f7964623",
   "metadata": {},
   "outputs": [],
   "source": [
    "depart_freq=df.groupby('Department')['Amount(INR)'].agg(['count','sum']).sort_values(by='count',ascending=False).head(10)\n",
    "#Traffic taking the top of lists\n",
    "sns.barplot(y=depart_freq.index,x=depart_freq['count']);"
   ]
  },
  {
   "cell_type": "code",
   "execution_count": null,
   "id": "6753082e",
   "metadata": {},
   "outputs": [],
   "source": [
    "depart_sum=df.groupby('Department')['Amount(INR)'].agg(['mean','sum']).sort_values(by='sum',ascending=False).head(10)\n",
    "depart_sum"
   ]
  },
  {
   "cell_type": "code",
   "execution_count": null,
   "id": "e9dcf7a1",
   "metadata": {},
   "outputs": [],
   "source": [
    "sns.barplot(y=depart_sum.index,x=depart_sum['sum']);"
   ]
  },
  {
   "cell_type": "code",
   "execution_count": null,
   "id": "2c5e765e",
   "metadata": {},
   "outputs": [],
   "source": [
    "df_day=df[[\"Amount(INR)\",'Date']].copy()\n",
    "df_day.head()"
   ]
  },
  {
   "cell_type": "code",
   "execution_count": null,
   "id": "5cb55ffc",
   "metadata": {},
   "outputs": [],
   "source": [
    "df_day[\"Day_of_month\"]=df[\"Date\"].dt.day\n",
    "df_day[\"Year\"]=df[\"Date\"].dt.year\n",
    "df_day[\"Month\"]=df[\"Date\"].dt.month\n",
    "df_day['Day_of_week']=df['Date'].dt.dayofweek"
   ]
  },
  {
   "cell_type": "code",
   "execution_count": null,
   "id": "96d0aa4f",
   "metadata": {},
   "outputs": [],
   "source": [
    "df_day\n"
   ]
  },
  {
   "cell_type": "code",
   "execution_count": null,
   "id": "05bbf4ce",
   "metadata": {},
   "outputs": [],
   "source": [
    "sns.histplot(data=df_day[\"Day_of_month\"],bins=31)\n",
    "plt.ylabel(\"Number of bribes taken\")\n",
    "plt.title(\"Days of the Month\");"
   ]
  },
  {
   "cell_type": "code",
   "execution_count": null,
   "id": "0e162bbc",
   "metadata": {},
   "outputs": [],
   "source": [
    "sns.histplot(data=df_day[\"Year\"])\n",
    "plt.ylabel(\"Number of bribes taken\")\n",
    "plt.title(\"Years\");"
   ]
  },
  {
   "cell_type": "code",
   "execution_count": null,
   "id": "9fb83471",
   "metadata": {},
   "outputs": [],
   "source": [
    "sns.histplot(data=df_day[\"Month\"],bins=12)\n",
    "plt.ylabel(\"Number of bribes taken\")\n",
    "plt.title(\"Bribes paid per month\");"
   ]
  },
  {
   "cell_type": "code",
   "execution_count": null,
   "id": "181ff9d0",
   "metadata": {},
   "outputs": [],
   "source": [
    "sns.histplot(data=df_day[\"Day_of_week\"],bins=7)\n",
    "plt.ylabel(\"Number of bribes taken\")\n",
    "plt.title(\"Days of the WEEK\")\n",
    "plt.xticks([0, 1, 2,3,4,5,6], ['Monday','Tuesday','Wednesday','Thursday','Friday','Saturday','Sunday'],rotation=90);"
   ]
  },
  {
   "cell_type": "code",
   "execution_count": null,
   "id": "ca76469f",
   "metadata": {},
   "outputs": [],
   "source": [
    "sns.heatmap(df_day.corr(),annot=True)"
   ]
  },
  {
   "cell_type": "code",
   "execution_count": null,
   "id": "d60b42e7",
   "metadata": {},
   "outputs": [],
   "source": []
  }
 ],
 "metadata": {
  "kernelspec": {
   "display_name": "base",
   "language": "python",
   "name": "python3"
  },
  "language_info": {
   "codemirror_mode": {
    "name": "ipython",
    "version": 3
   },
   "file_extension": ".py",
   "mimetype": "text/x-python",
   "name": "python",
   "nbconvert_exporter": "python",
   "pygments_lexer": "ipython3",
   "version": "3.12.4"
  }
 },
 "nbformat": 4,
 "nbformat_minor": 5
}
